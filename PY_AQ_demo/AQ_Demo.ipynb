{
 "cells": [
  {
   "cell_type": "markdown",
   "metadata": {},
   "source": [
    "## Setup and Imports\n",
    "Python environment setup and necessary library imports."
   ]
  },
  {
   "cell_type": "code",
   "execution_count": null,
   "metadata": {},
   "outputs": [],
   "source": [
    "from __future__ import annotations\n",
    "\n",
    "import logging\n",
    "import time\n",
    "from pathlib import Path\n",
    "\n",
    "import matplotlib.pyplot as plt\n",
    "import rioxarray as rxr\n",
    "import geopandas as gpd # For type hinting if needed\n",
    "import xarray as xr # For type hinting if needed\n",
    "import numpy as np # For potential transformations\n",
    "\n",
    "# Assuming functions.py is in the same directory or PYTHONPATH\n",
    "from functions import (\n",
    "    load_aq,\n",
    "    load_covariates,\n",
    "    linear_aq_model,\n",
    "    predict_linear_model,\n",
    "    krige_aq_residuals,\n",
    "    combine_results,\n",
    "    plot_aq_prediction,\n",
    "    plot_aq_se,\n",
    "    find_poll # if needed directly, though usually internal\n",
    ")\n",
    "\n",
    "logging.basicConfig(level=logging.INFO, format=\"%(asctime)s %(levelname)s %(message)s\")\n",
    "LOG = logging.getLogger() # Use root logger for notebooks or get specific\n",
    "LOG.setLevel(logging.INFO) # Ensure log level"
   ]
  },
  {
   "cell_type": "markdown",
   "metadata": {},
   "source": [
    "## Parameters\n",
    "Define parameters for the analysis, mirroring the R script."
   ]
  },
  {
   "cell_type": "code",
   "execution_count": null,
   "metadata": {},
   "outputs": [],
   "source": [
    "year = 2020\n",
    "month = 0  # Set to 0 for annual data, >0 for monthly\n",
    "day_of_year = 0 # Set to 0 if using month, >0 for daily\n",
    "pollutant = \"O3\"\n",
    "stat = \"perc\"\n",
    "# station_area_type = \"RB\"  # Placeholder in Python script, filter_area_type not directly used in AQ_Demo.py"
   ]
  },
  {
   "cell_type": "markdown",
   "metadata": {},
   "source": [
    "## Read AQ Data\n",
    "Daily, monthly, or annual aggregates of AQ measurement data are imported using `load_aq()`.\n",
    "Required inputs are the `pollutant`, the aggregation statistic (`stat`) and a temporal selection.\n",
    "Specifying only the year (`y`) returns annual data.\n",
    "Additionally, specifying **either** the month (`m`) **or** the day of the year (`d`) returns monthly or daily data, respectively."
   ]
  },
  {
   "cell_type": "code",
   "execution_count": null,
   "metadata": {},
   "outputs": [],
   "source": [
    "LOG.info(f\"Loading AQ measurements for {pollutant}, {stat}, year={year}, month={month}, day={day_of_year}...\")\n",
    "aq = load_aq(pollutant=pollutant, stat=stat, y=year, m=month, d=day_of_year)\n",
    "LOG.info(f\"Loaded {len(aq)} AQ measurements.\")\n",
    "# print(aq.head())\n",
    "# print(aq.attrs)"
   ]
  },
  {
   "cell_type": "markdown",
   "metadata": {},
   "source": [
    "## Add Covariates\n",
    "Covariates are then loaded using `load_covariates()`. The temporal extent is extracted from the AQ measurement data object attributes. Each covariate raster layer is warped to match the spatial grid of the DEM.\n",
    "\n",
    "The Python version `load_covariates` uses a DEM raster as the target grid.\n",
    "The list of covariates loaded depends on the pollutant, as defined in `functions.py`.\n",
    "\n",
    "Example pollutant-specific covariates (as per `functions.py` logic):\n",
    "-   PM10: log_CAMS_PM10, Elevation, WindSpeed, RelativeHumidity\n",
    "-   PM2.5: log_CAMS_PM2.5, Elevation, WindSpeed, RelativeHumidity, BoundaryLayerHeight\n",
    "-   O3: CAMS_O3, Elevation, WindSpeed, SolarRadiation\n",
    "-   NO2: CAMS_NO2, Elevation, WindSpeed, TROPOMI_NO2"
   ]
  },
  {
   "cell_type": "code",
   "execution_count": null,
   "metadata": {},
   "outputs": [],
   "source": [
    "# Define DEM path (ensure this file exists or update the path)\n",
    "# Original R script used: \"supplementary/static/COP-DEM/COP_DEM_Europe_mainland_10km_mask_epsg3035.rds\"\n",
    "# Python script uses a .tif file.\n",
    "DEM_PATH = Path(\"Data/aq_cov_o3_2020_dem.tiff\") # Path from AQ_Demo.py\n",
    "# DEM_PATH = Path(\"supplementary/static/COP-DEM/COP_DEM_Europe_mainland_10km_mask_epsg3035.tif\") # Alternative path from QMD, if converted to TIF\n",
    "\n",
    "if not DEM_PATH.exists():\n",
    "    LOG.error(f\"Cannot find DEM raster: {DEM_PATH}. Update `DEM_PATH` to point to a valid raster file.\")\n",
    "    # raise FileNotFoundError(f\"Cannot find DEM raster: {DEM_PATH}.\") # Or handle gracefully\n",
    "else:\n",
    "    dem = rxr.open_rasterio(DEM_PATH, masked=True).sel(band=1)\n",
    "    LOG.info(f\"DEM loaded from {DEM_PATH} with shape {dem.shape}\")\n",
    "\n",
    "    LOG.info(\"Loading covariates …\")\n",
    "    t0 = time.time()\n",
    "    # Ensure 'aq' has the necessary attributes set by load_aq\n",
    "    # aq.attrs should contain 'pollutant', 'stat', 'y', 'm', 'd'\n",
    "    aq_cov = load_covariates(aq, dem)\n",
    "    LOG.info(\"Covariate load finished in %.1fs\", time.time() - t0)\n",
    "\n",
    "    # Inspection of loaded covariates\n",
    "    LOG.info(f\"--- Covariate Inspection (Pollutant: {aq_cov.attrs.get('pollutant')}, Year: {aq_cov.attrs.get('y')}, Month: {aq_cov.attrs.get('m') if aq_cov.attrs.get('m', 0) > 0 else 'Annual'}) ---\")\n",
    "    LOG.info(f\"Loaded covariate layers: {list(aq_cov.data_vars.keys())}\")\n",
    "    LOG.info(f\"Covariate dataset attributes: {aq_cov.attrs}\")\n",
    "    for var_name in aq_cov.data_vars:\n",
    "        LOG.info(f\"  Layer '{var_name}': shape {aq_cov[var_name].shape}, coords {list(aq_cov[var_name].coords.keys())}\")\n",
    "    LOG.info(\"--- End Covariate Inspection ---\")\n",
    "    # print(aq_cov)"
   ]
  },
  {
   "cell_type": "markdown",
   "metadata": {},
   "source": [
    "## Linear Models\n",
    "The R script mentions filtering by station area type (e.g., \"RB\" - rural background) before fitting the linear model. This step is noted as a placeholder in the Python `AQ_Demo.py` script and `filter_area_type` is not directly applied.\n",
    "The `linear_aq_model` function fits an ordinary least-squares model: pollutant ~ covariates."
   ]
  },
  {
   "cell_type": "code",
   "execution_count": null,
   "metadata": {},
   "outputs": [],
   "source": [
    "if 'aq_cov' in locals(): # Check if covariates were loaded\n",
    "    # station_area_type = \"RB\" # As in AQ_Demo.py\n",
    "    # aq_filtered = filter_area_type(aq, area_type = station_area_type) # Not implemented/used in AQ_Demo.py\n",
    "    # For now, use the unfiltered 'aq' data as in AQ_Demo.py\n",
    "    LOG.info(\"Fitting linear model …\")\n",
    "    linmod = linear_aq_model(aq, aq_cov) # Uses full aq dataset\n",
    "    # The R² score is logged by linear_aq_model\n",
    "    # To print coefficients: print(f\"Model coefficients: {linmod.coef_}\")\n",
    "    # print(f\"Model intercept: {linmod.intercept_}\")\n",
    "    # print(f\"Feature names: {linmod.feature_names_in_}\")\n",
    "else:\n",
    "    LOG.error(\"Covariates (aq_cov) not loaded. Skipping linear model fitting.\")"
   ]
  },
  {
   "cell_type": "markdown",
   "metadata": {},
   "source": [
    "## Predict Linear Model\n",
    "The fitted linear model is predicted over the covariate raster grid.\n",
    "The R script includes steps for masking based on CLC data and back-transformation for log-transformed variables.\n",
    "The Python `predict_linear_model` function handles the prediction. Back-transformation, if needed, would typically be part of `combine_results` or a subsequent step."
   ]
  },
  {
   "cell_type": "code",
   "execution_count": null,
   "metadata": {},
   "outputs": [],
   "source": [
    "if 'linmod' in locals() and 'aq_cov' in locals():\n",
    "    LOG.info(\"Predicting linear model over covariate grid …\")\n",
    "    aq_cov[\"lm_pred\"] = predict_linear_model(linmod, aq_cov)\n",
    "    LOG.info(\"Linear model prediction added to aq_cov as 'lm_pred'.\")\n",
    "    # print(aq_cov[\"lm_pred\"])\n",
    "\n",
    "    # Note: The R script's explicit back-transformation (exp()) for lm_pred and se\n",
    "    # is not directly mirrored here. If CAMS was log-transformed, the prediction\n",
    "    # is in log-space. `combine_results` might handle this, or it needs explicit handling.\n",
    "    # For PM10/PM2.5, CAMS is log_transformed.\n",
    "    if pollutant in [\"PM10\", \"PM2.5\"] and f\"log_CAMS_{pollutant.upper()}\" in linmod.feature_names_in_:\n",
    "        LOG.info(f\"Predictions for {pollutant} are in log-space due to log_CAMS input. Consider back-transformation (exp).\")\n",
    "        # Example: aq_cov[\"lm_pred\"] = np.exp(aq_cov[\"lm_pred\"]) # If direct back-transformation is desired here\n",
    "else:\n",
    "    LOG.error(\"Linear model or covariates not available. Skipping prediction.\")"
   ]
  },
  {
   "cell_type": "markdown",
   "metadata": {},
   "source": [
    "## Residual Kriging\n",
    "The residuals of the linear model are interpolated using `krige_aq_residuals`.\n",
    "This function requires the AQ measurements, covariates (including the linear model prediction), and the linear model itself.\n",
    "The R script mentions parallelization for kriging; the Python version in `functions.py` does not currently expose parallel options in `AQ_Demo.py`."
   ]
  },
  {
   "cell_type": "code",
   "execution_count": null,
   "metadata": {},
   "outputs": [],
   "source": [
    "if 'linmod' in locals() and 'aq_cov' in locals() and \"lm_pred\" in aq_cov:\n",
    "    LOG.info(\"Kriging residuals … this may take a while …\")\n",
    "    t0 = time.time()\n",
    "    # n_max corresponds to n.max in R. CV and show.vario are not directly in AQ_Demo.py call\n",
    "    krige_res = krige_aq_residuals(aq, aq_cov, linmod, n_max=10)\n",
    "    LOG.info(\"Kriging finished in %.1fs\", time.time() - t0)\n",
    "    # print(krige_res) # Contains 'pred' and 'pred_se' for residuals\n",
    "else:\n",
    "    LOG.error(\"Linear model prediction or covariates not available. Skipping residual kriging.\")"
   ]
  },
  {
   "cell_type": "markdown",
   "metadata": {},
   "source": [
    "## Combine Results & Plot\n",
    "Model prediction and Kriging output are merged using `combine_results()`.\n",
    "The final prediction and its standard error are then plotted."
   ]
  },
  {
   "cell_type": "code",
   "execution_count": null,
   "metadata": {},
   "outputs": [],
   "source": [
    "if 'krige_res' in locals() and 'aq_cov' in locals():\n",
    "    LOG.info(\"Combining LM prediction and Kriged residuals...\")\n",
    "    result = combine_results(aq_cov, krige_res) # This should handle back-transformation if pollutant is PM10/PM2.5\n",
    "\n",
    "    LOG.info(\"Plotting results...\")\n",
    "    fig, axes = plt.subplots(1, 2, figsize=(12, 5))\n",
    "\n",
    "    plot_aq_prediction(result, ax=axes[0])\n",
    "    axes[0].set_title(f\"Predicted {pollutant}\")\n",
    "\n",
    "    try:\n",
    "        plot_aq_se(result, ax=axes[1])\n",
    "        axes[1].set_title(\"Prediction Std. Error\")\n",
    "    except KeyError: # If 'pred_se' is not in result\n",
    "        axes[1].text(0.5, 0.5, \"`pred_se` layer missing\", ha=\"center\", va=\"center\")\n",
    "        axes[1].set_title(\"Prediction Std. Error (Missing)\")\n",
    "        axes[1].axis(\"off\")\n",
    "\n",
    "    plt.tight_layout()\n",
    "    plt.show()\n",
    "else:\n",
    "    LOG.error(\"Kriging results or covariates not available. Skipping final combination and plotting.\")\n",
    "\n",
    "LOG.info(\"Notebook workflow finished.\")"
   ]
  }
 ],
 "metadata": {
  "kernelspec": {
   "display_name": "Python 3 (ipykernel)",
   "language": "python",
   "name": "python3"
  },
  "language_info": {
   "codemirror_mode": {
    "name": "ipython",
    "version": 3
   },
   "file_extension": ".py",
   "mimetype": "text/x-python",
   "name": "python",
   "nbconvert_exporter": "python",
   "pygments_lexer": "ipython3",
   "version": "3.10.0"
  }
 },
 "nbformat": 4,
 "nbformat_minor": 5
}
