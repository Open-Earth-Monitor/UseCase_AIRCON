{
 "cells": [
  {
   "cell_type": "markdown",
   "id": "3f6313b1",
   "metadata": {},
   "source": [
    "## Setup and Imports\n",
    "Python environment setup and necessary library imports."
   ]
  },
  {
   "cell_type": "code",
   "execution_count": null,
   "id": "bcbd8d49",
   "metadata": {},
   "outputs": [],
   "source": [
    "from __future__ import annotations\n",
    "\n",
    "import logging\n",
    "import time\n",
    "from pathlib import Path\n",
    "\n",
    "import matplotlib.pyplot as plt\n",
    "import rioxarray as rxr\n",
    "import geopandas as gpd # For type hinting if needed\n",
    "import xarray as xr # For type hinting if needed\n",
    "import numpy as np # For potential transformations\n",
    "\n",
    "# Assuming functions.py is in the same directory or PYTHONPATH\n",
    "from functions import (\n",
    "    load_aq,\n",
    "    load_covariates,\n",
    "    linear_aq_model,\n",
    "    predict_linear_model,\n",
    "    krige_aq_residuals,\n",
    "    combine_results,\n",
    "    plot_aq_prediction,\n",
    "    plot_aq_se,\n",
    "    find_poll # if needed directly, though usually internal\n",
    ")\n",
    "\n",
    "logging.basicConfig(level=logging.INFO, format=\"%(asctime)s %(levelname)s %(message)s\")\n",
    "LOG = logging.getLogger() # Use root logger for notebooks or get specific\n",
    "LOG.setLevel(logging.INFO) # Ensure log level"
   ]
  },
  {
   "cell_type": "markdown",
   "id": "0ccc91b6",
   "metadata": {},
   "source": [
    "## Parameters\n",
    "Define parameters for the analysis, mirroring the R script."
   ]
  },
  {
   "cell_type": "code",
   "execution_count": null,
   "id": "49028eb2",
   "metadata": {},
   "outputs": [],
   "source": [
    "year = 2020\n",
    "month = 0  # Set to 0 for annual data, >0 for monthly\n",
    "day_of_year = 0 # Set to 0 if using month, >0 for daily\n",
    "pollutant = \"O3\"\n",
    "stat = \"mean\"\n",
    "# station_area_type = \"RB\"  # Placeholder in Python script, filter_area_type not directly used in AQ_Demo.py"
   ]
  },
  {
   "cell_type": "markdown",
   "id": "a7d5b829",
   "metadata": {},
   "source": [
    "## Read AQ Data\n",
    "Daily, monthly, or annual aggregates of AQ measurement data are imported using `load_aq()`.\n",
    "Required inputs are the `pollutant`, the aggregation statistic (`stat`) and a temporal selection.\n",
    "Specifying only the year (`y`) returns annual data.\n",
    "Additionally, specifying **either** the month (`m`) **or** the day of the year (`d`) returns monthly or daily data, respectively."
   ]
  },
  {
   "cell_type": "code",
   "execution_count": null,
   "id": "091c5b15",
   "metadata": {},
   "outputs": [],
   "source": [
    "LOG.info(f\"Loading AQ measurements for {pollutant}, {stat}, year={year}, month={month}, day={day_of_year}...\")\n",
    "aq = load_aq(pollutant=pollutant, stat=stat, y=year, m=month, d=day_of_year)\n",
    "LOG.info(f\"Loaded {len(aq)} AQ measurements.\")\n",
    "# print(aq.head())\n",
    "# print(aq.attrs)"
   ]
  },
  {
   "cell_type": "markdown",
   "id": "cf9e7131",
   "metadata": {},
   "source": [
    "## Add Covariates\n",
    "Covariates are then loaded using `load_covariates()`. The temporal extent is extracted from the AQ measurement data object attributes. Each covariate raster layer is warped to match the spatial grid of the DEM.\n",
    "\n",
    "The Python version `load_covariates` uses a DEM raster as the target grid.\n",
    "The list of covariates loaded depends on the pollutant, as defined in `functions.py`.\n",
    "\n",
    "Example pollutant-specific covariates (as per `functions.py` logic):\n",
    "-   PM10: log_CAMS_PM10, Elevation, WindSpeed, RelativeHumidity\n",
    "-   PM2.5: log_CAMS_PM2.5, Elevation, WindSpeed, RelativeHumidity, BoundaryLayerHeight\n",
    "-   O3: CAMS_O3, Elevation, WindSpeed, SolarRadiation\n",
    "-   NO2: CAMS_NO2, Elevation, WindSpeed, TROPOMI_NO2"
   ]
  },
  {
   "cell_type": "code",
   "execution_count": null,
   "id": "05413f29",
   "metadata": {},
   "outputs": [],
   "source": [
    "# Define DEM path (ensure this file exists or update the path)\n",
    "# Original R script used: \"supplementary/static/COP-DEM/COP_DEM_Europe_mainland_10km_mask_epsg3035.rds\"\n",
    "# Python script uses a .tif file.\n",
    "DEM_PATH = Path(\"Data/aq_cov_o3_2020_dem.tiff\") # Path from AQ_Demo.py\n",
    "# DEM_PATH = Path(\"supplementary/static/COP-DEM/COP_DEM_Europe_mainland_10km_mask_epsg3035.tif\") # Alternative path from QMD, if converted to TIF\n",
    "\n",
    "if not DEM_PATH.exists():\n",
    "    LOG.error(f\"Cannot find DEM raster: {DEM_PATH}. Update `DEM_PATH` to point to a valid raster file.\")\n",
    "    # raise FileNotFoundError(f\"Cannot find DEM raster: {DEM_PATH}.\") # Or handle gracefully\n",
    "else:\n",
    "    dem = rxr.open_rasterio(DEM_PATH, masked=True).sel(band=1)\n",
    "    LOG.info(f\"DEM loaded from {DEM_PATH} with shape {dem.shape}\")\n",
    "\n",
    "    LOG.info(\"Loading covariates …\")\n",
    "    t0 = time.time()\n",
    "    # Ensure 'aq' has the necessary attributes set by load_aq\n",
    "    # aq.attrs should contain 'pollutant', 'stat', 'y', 'm', 'd'\n",
    "    aq_cov = load_covariates(aq, dem)\n",
    "    LOG.info(\"Covariate load finished in %.1fs\", time.time() - t0)\n",
    "\n",
    "    # Inspection of loaded covariates\n",
    "    LOG.info(f\"--- Covariate Inspection (Pollutant: {aq_cov.attrs.get('pollutant')}, Year: {aq_cov.attrs.get('y')}, Month: {aq_cov.attrs.get('m') if aq_cov.attrs.get('m', 0) > 0 else 'Annual'}) ---\")\n",
    "    LOG.info(f\"Loaded covariate layers: {list(aq_cov.data_vars.keys())}\")\n",
    "    LOG.info(f\"Covariate dataset attributes: {aq_cov.attrs}\")\n",
    "    for var_name in aq_cov.data_vars:\n",
    "        LOG.info(f\"  Layer '{var_name}': shape {aq_cov[var_name].shape}, coords {list(aq_cov[var_name].coords.keys())}\")\n",
    "    LOG.info(\"--- End Covariate Inspection ---\")\n",
    "    # print(aq_cov)"
   ]
  },
  {
   "cell_type": "markdown",
   "id": "d5fd607a",
   "metadata": {},
   "source": [
    "## Linear Models\n",
    "The R script mentions filtering by station area type (e.g., \"RB\" - rural background) before fitting the linear model. This step is noted as a placeholder in the Python `AQ_Demo.py` script and `filter_area_type` is not directly applied.\n",
    "The `linear_aq_model` function fits an ordinary least-squares model: pollutant ~ covariates."
   ]
  },
  {
   "cell_type": "code",
   "execution_count": null,
   "id": "0945abe8",
   "metadata": {},
   "outputs": [],
   "source": [
    "if 'aq_cov' in locals(): # Check if covariates were loaded\n",
    "    # station_area_type = \"RB\" # As in AQ_Demo.py\n",
    "    # aq_filtered = filter_area_type(aq, area_type = station_area_type) # Not implemented/used in AQ_Demo.py\n",
    "    # For now, use the unfiltered 'aq' data as in AQ_Demo.py\n",
    "    LOG.info(\"Fitting linear model …\")\n",
    "    linmod = linear_aq_model(aq, aq_cov) # Uses full aq dataset\n",
    "    # The R² score is logged by linear_aq_model\n",
    "    # To print coefficients: print(f\"Model coefficients: {linmod.coef_}\")\n",
    "    # print(f\"Model intercept: {linmod.intercept_}\")\n",
    "    # print(f\"Feature names: {linmod.feature_names_in_}\")\n",
    "else:\n",
    "    LOG.error(\"Covariates (aq_cov) not loaded. Skipping linear model fitting.\")"
   ]
  },
  {
   "cell_type": "markdown",
   "id": "fb6228f7",
   "metadata": {},
   "source": [
    "## Predict Linear Model\n",
    "The fitted linear model is predicted over the covariate raster grid.\n",
    "The R script includes steps for masking based on CLC data and back-transformation for log-transformed variables.\n",
    "The Python `predict_linear_model` function handles the prediction. Back-transformation, if needed, would typically be part of `combine_results` or a subsequent step."
   ]
  },
  {
   "cell_type": "code",
   "execution_count": null,
   "id": "097cbfcf",
   "metadata": {},
   "outputs": [],
   "source": [
    "if 'linmod' in locals() and 'aq_cov' in locals():\n",
    "    LOG.info(\"Predicting linear model over covariate grid …\")\n",
    "    aq_cov[\"lm_pred\"] = predict_linear_model(linmod, aq_cov)\n",
    "    LOG.info(\"Linear model prediction added to aq_cov as 'lm_pred'.\")\n",
    "    # print(aq_cov[\"lm_pred\"])\n",
    "\n",
    "    # Note: The R script's explicit back-transformation (exp()) for lm_pred and se\n",
    "    # is not directly mirrored here. If CAMS was log-transformed, the prediction\n",
    "    # is in log-space. `combine_results` might handle this, or it needs explicit handling.\n",
    "    # For PM10/PM2.5, CAMS is log_transformed.\n",
    "    if pollutant in [\"PM10\", \"PM2.5\"] and f\"log_CAMS_{pollutant.upper()}\" in linmod.feature_names_in_:\n",
    "        LOG.info(f\"Predictions for {pollutant} are in log-space due to log_CAMS input. Consider back-transformation (exp).\")\n",
    "        # Example: aq_cov[\"lm_pred\"] = np.exp(aq_cov[\"lm_pred\"]) # If direct back-transformation is desired here\n",
    "else:\n",
    "    LOG.error(\"Linear model or covariates not available. Skipping prediction.\")"
   ]
  },
  {
   "cell_type": "markdown",
   "id": "d73a1e32",
   "metadata": {},
   "source": [
    "## Residual Kriging\n",
    "The residuals of the linear model are interpolated using `krige_aq_residuals`.\n",
    "This function requires the AQ measurements, covariates (including the linear model prediction), and the linear model itself.\n",
    "The R script mentions parallelization for kriging; the Python version in `functions.py` does not currently expose parallel options in `AQ_Demo.py`."
   ]
  },
  {
   "cell_type": "code",
   "execution_count": null,
   "id": "c474b2f3",
   "metadata": {},
   "outputs": [],
   "source": [
    "if 'linmod' in locals() and 'aq_cov' in locals() and \"lm_pred\" in aq_cov:\n",
    "    LOG.info(\"Kriging residuals … this may take a while …\")\n",
    "    t0 = time.time()\n",
    "    # n_max corresponds to n.max in R. CV and show.vario are not directly in AQ_Demo.py call\n",
    "    krige_res = krige_aq_residuals(aq, aq_cov, linmod, n_max=10)\n",
    "    LOG.info(\"Kriging finished in %.1fs\", time.time() - t0)\n",
    "    # print(krige_res) # Contains 'pred' and 'pred_se' for residuals\n",
    "else:\n",
    "    LOG.error(\"Linear model prediction or covariates not available. Skipping residual kriging.\")"
   ]
  },
  {
   "cell_type": "markdown",
   "id": "6471cbeb",
   "metadata": {},
   "source": [
    "## Combine Results & Plot\n",
    "Model prediction and Kriging output are merged using `combine_results()`.\n",
    "The final prediction and its standard error are then plotted."
   ]
  },
  {
   "cell_type": "code",
   "execution_count": null,
   "id": "4b9a8ee8",
   "metadata": {},
   "outputs": [],
   "source": [
    "# Ensure 'result' is the output from the combine_results function call\n",
    "LOG.info(\"Combining LM prediction and kriged residuals ...\")\n",
    "try:\n",
    "    result = combine_results(aq_cov, krige_res)\n",
    "    LOG.info(\"Results combined.\")\n",
    "    # Optionally, print result here to inspect it immediately after creation:\n",
    "    # print(result) \n",
    "    # print(type(result))\n",
    "except Exception as e:\n",
    "    LOG.error(f\"Error during combine_results: {e}\", exc_info=True)\n",
    "\n",
    "\n",
    "# Import necessary plotting libraries and functions if not already done\n",
    "import matplotlib.pyplot as plt\n",
    "from functions import plot_aq_prediction, plot_aq_se, LOG \n",
    "\n",
    "# Check if 'result' exists and is an xarray.Dataset\n",
    "if 'result' in locals() and isinstance(result, xr.Dataset):\n",
    "    LOG.info(\"Plotting final AQ prediction map and Standard Error map …\")\n",
    "    \n",
    "    fig, axes = plt.subplots(1, 2, figsize=(15, 6)) # Adjust figsize as needed\n",
    "    \n",
    "    # Plot AQ Prediction\n",
    "    try:\n",
    "        plot_aq_prediction(result, ax=axes[0])\n",
    "        # Title and colorbar label are handled within plot_aq_prediction\n",
    "    except Exception as e:\n",
    "        LOG.error(f\"Error plotting AQ prediction: {e}\")\n",
    "        axes[0].text(0.5, 0.5, \"Error plotting prediction\", ha='center', va='center', transform=axes[0].transAxes)\n",
    "        axes[0].set_title(\"Predicted AQ (Error)\")\n",
    "        axes[0].set_xticks([])\n",
    "        axes[0].set_yticks([])\n",
    "\n",
    "    # Plot Prediction Standard Error\n",
    "    try:\n",
    "        plot_aq_se(result, ax=axes[1])\n",
    "        # Title and colorbar label are handled within plot_aq_se\n",
    "    except Exception as e: # Catch any other unexpected error during plot_aq_se call\n",
    "        LOG.error(f\"Error plotting prediction standard error: {e}\")\n",
    "        axes[1].text(0.5, 0.5, \"Error plotting SE\", ha='center', va='center', transform=axes[1].transAxes)\n",
    "        axes[1].set_title(\"Prediction Std. Error (Error)\")\n",
    "        axes[1].set_xticks([])\n",
    "        axes[1].set_yticks([])\n",
    "        \n",
    "    plt.tight_layout()\n",
    "    plt.show()\n",
    "    \n",
    "    LOG.info(\"Plotting finished.\")\n",
    "else:\n",
    "    LOG.error(\"'result' dataset not found or not an xarray.Dataset. Skipping plotting.\")\n"
   ]
  },
  {
   "cell_type": "code",
   "execution_count": null,
   "id": "6456f4b9-0b1d-474a-ae4c-30af6a90e526",
   "metadata": {},
   "outputs": [],
   "source": []
  }
 ],
 "metadata": {
  "kernelspec": {
   "display_name": "Python 3 (ipykernel)",
   "language": "python",
   "name": "python3"
  },
  "language_info": {
   "codemirror_mode": {
    "name": "ipython",
    "version": 3
   },
   "file_extension": ".py",
   "mimetype": "text/x-python",
   "name": "python",
   "nbconvert_exporter": "python",
   "pygments_lexer": "ipython3",
   "version": "3.12.10"
  }
 },
 "nbformat": 4,
 "nbformat_minor": 5
}
