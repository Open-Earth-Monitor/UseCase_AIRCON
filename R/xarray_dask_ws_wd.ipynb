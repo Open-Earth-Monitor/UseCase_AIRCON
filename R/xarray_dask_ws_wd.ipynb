{
 "cells": [
  {
   "cell_type": "code",
   "execution_count": 24,
   "id": "ecfc0fcb-6aec-411a-9385-89c741d218fc",
   "metadata": {
    "tags": []
   },
   "outputs": [],
   "source": [
    "import os\n",
    "import gc\n",
    "import dask\n",
    "import dask.array as da\n",
    "import numpy as np\n",
    "import xarray as xr\n",
    "from dask.diagnostics import ProgressBar\n",
    "from dask.distributed import Client, LocalCluster, progress\n",
    "gc.collect()\n",
    "\n",
    "os.chdir(\n",
    "    \"/mnt/cloud/wwu1/ec_bronze/_nogroup/ae78a1ca-a0e8-4e4e-8992-69c34947db65/UseCase_AIRCON\"\n",
    ")\n",
    "\n",
    "# Define a custom function to calculate wind speed\n",
    "def wind_speed(u, v):\n",
    "    return da.sqrt(u**2 + v**2)\n",
    "\n",
    "def wind_dir(u, v):\n",
    "    return (270 - da.arctan2(u, v) * 180 / np.pi) % 360\n",
    "\n",
    "scale_factor_wd = 360 / (2**16 - 1)  # applies to all datasets"
   ]
  },
  {
   "cell_type": "code",
   "execution_count": 25,
   "id": "69eb2376-6f8a-488e-b1fe-b66a49e7c998",
   "metadata": {
    "tags": []
   },
   "outputs": [
    {
     "name": "stderr",
     "output_type": "stream",
     "text": [
      "/home/j/jheisig/.local/lib/python3.10/site-packages/distributed/node.py:182: UserWarning: Port 8787 is already in use.\n",
      "Perhaps you already have a cluster running?\n",
      "Hosting the HTTP server on port 41907 instead\n",
      "  warnings.warn(\n"
     ]
    },
    {
     "name": "stdout",
     "output_type": "stream",
     "text": [
      "<Client: 'tcp://127.0.0.1:39255' processes=4 threads=16, memory=64.00 GiB>\n"
     ]
    }
   ],
   "source": [
    "client = Client()\n",
    "print(client)"
   ]
  },
  {
   "cell_type": "code",
   "execution_count": 33,
   "id": "3fdcd609-02e1-49bb-9344-cee56427e961",
   "metadata": {
    "tags": []
   },
   "outputs": [],
   "source": [
    "def process_wind(y):\n",
    "    out_ws = f\"supplementary/era5_download/ERA5_10m_wind_speed_hrly_{y}.nc\"  \n",
    "    out_wd = f\"supplementary/era5_download/ERA5_10m_wind_direction_hrly_{y}.nc\"  \n",
    "    \n",
    "    if not os.path.isfile(out_wd) or os.path.getsize(out_wd) < 50000 or not os.path.isfile(out_ws) or os.path.getsize(out_ws) < 50000:\n",
    "        chunkies = \"auto\"\n",
    "        d = xr.open_mfdataset([\n",
    "        f\"supplementary/era5_download/ERA5_10m_u_component_of_wind_hrly_{y}.nc\",\n",
    "        f\"supplementary/era5_download/ERA5_10m_v_component_of_wind_hrly_{y}.nc\",\n",
    "        ], chunks = chunkies,\n",
    "           combine = \"by_coords\",\n",
    "           parallel = True)  \n",
    "        \n",
    "        if 'expver' in d.dims:\n",
    "            d = d.reduce(np.nansum, 'expver')\n",
    "            print(f\"\\nFound experimental version of data (recent dates) in {y}. Reducing dimension.\")\n",
    "        \n",
    "        d[\"ws\"] = wind_speed(d.u10, d.v10)\n",
    "        mini = d.ws.min().compute().values.item()\n",
    "        maxi = d.ws.max().compute().values.item()\n",
    "        scale_factor_ws = (maxi - (-mini)) / (2**16 - 1)\n",
    "        ws = (d[\"ws\"].to_dataset().to_netcdf(\n",
    "                out_ws,\n",
    "                compute=False,\n",
    "                encoding={\n",
    "                    \"ws\": {\n",
    "                        \"dtype\": \"int16\",\n",
    "                        \"scale_factor\": scale_factor_ws,\n",
    "                        \"_FillValue\": -9999,\n",
    "                    }}))\n",
    "        \n",
    "        d[\"wd\"] = wind_dir(d.u10, d.v10)\n",
    "        wd = (d[\"wd\"].to_dataset().to_netcdf(\n",
    "                out_wd,\n",
    "                compute=False,\n",
    "                encoding={\n",
    "                    \"wd\": {\n",
    "                        \"dtype\": \"int16\",\n",
    "                        \"scale_factor\": scale_factor_wd,\n",
    "                        \"_FillValue\": -9999,\n",
    "                    }}))\n",
    "        res = [ws, wd]\n",
    "        del d    \n",
    "        return res\n",
    "        del res"
   ]
  },
  {
   "cell_type": "code",
   "execution_count": 30,
   "id": "66afa17c-fe0d-4b2c-9772-987b4df730d3",
   "metadata": {
    "tags": []
   },
   "outputs": [
    {
     "name": "stdout",
     "output_type": "stream",
     "text": [
      "2015 2016 2017 2018 2019 2020 2021 2022 Found experimental version of SRR data (recent dates). Reducing dimension.\n",
      "2023 CPU times: user 2min 1s, sys: 26.2 s, total: 2min 28s\n",
      "Wall time: 18min 20s\n"
     ]
    }
   ],
   "source": [
    "%%time\n",
    "\n",
    "years = range(2015, 2024)\n",
    "lazy_results = []\n",
    "\n",
    "for y in years:\n",
    "    p_wind = process_wind(y)\n",
    "    lazy_results.append(p_wind[0])\n",
    "    lazy_results.append(p_wind[1])\n",
    "    print(y, sep=' ', end=' ', flush=True)"
   ]
  },
  {
   "cell_type": "code",
   "execution_count": 31,
   "id": "611fbe67-f06f-4cb8-9c69-362241b65b08",
   "metadata": {
    "tags": []
   },
   "outputs": [
    {
     "name": "stdout",
     "output_type": "stream",
     "text": [
      "18\n",
      "18\n"
     ]
    }
   ],
   "source": [
    "print(len(lazy_results))\n",
    "\n",
    "lazy_results = [x for x in lazy_results if x is not None]\n",
    "print(len(lazy_results))"
   ]
  },
  {
   "cell_type": "code",
   "execution_count": 32,
   "id": "471b5eb4-156d-4663-8d0f-98a6e6846fa8",
   "metadata": {
    "tags": []
   },
   "outputs": [
    {
     "data": {
      "application/vnd.jupyter.widget-view+json": {
       "model_id": "8fc9c1aaf7554687b490f464b0a22fd5",
       "version_major": 2,
       "version_minor": 0
      },
      "text/plain": [
       "VBox()"
      ]
     },
     "metadata": {},
     "output_type": "display_data"
    }
   ],
   "source": [
    "agg_res = dask.persist(*lazy_results)\n",
    "progress(agg_res)"
   ]
  }
 ],
 "metadata": {
  "kernelspec": {
   "display_name": "Python 3 (ipykernel)",
   "language": "python",
   "name": "python3"
  },
  "language_info": {
   "codemirror_mode": {
    "name": "ipython",
    "version": 3
   },
   "file_extension": ".py",
   "mimetype": "text/x-python",
   "name": "python",
   "nbconvert_exporter": "python",
   "pygments_lexer": "ipython3",
   "version": "3.10.12"
  }
 },
 "nbformat": 4,
 "nbformat_minor": 5
}
