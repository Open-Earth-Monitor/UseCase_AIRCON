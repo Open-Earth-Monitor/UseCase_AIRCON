{
 "cells": [
  {
   "cell_type": "code",
   "execution_count": null,
   "id": "ecfc0fcb-6aec-411a-9385-89c741d218fc",
   "metadata": {
    "tags": []
   },
   "outputs": [],
   "source": [
    "import gc\n",
    "import os\n",
    "\n",
    "import dask\n",
    "import dask.array as da\n",
    "import numpy as np\n",
    "import xarray as xr\n",
    "from dask.distributed import Client, LocalCluster, progress\n",
    "\n",
    "gc.collect()\n",
    "\n",
    "os.chdir(\n",
    "    \"/mnt/cloud/wwu1/ec_bronze/_nogroup/ae78a1ca-a0e8-4e4e-8992-69c34947db65/UseCase_AIRCON\"\n",
    ")\n",
    "\n",
    "# relative humidity\n",
    "def rh(t, d):\n",
    "    return (da.exp((17.625 * d) / (243.04 + t)) / (da.exp((17.625 * t) / (243.04 + t)))) * 100\n",
    "\n",
    "\n",
    "scale_factor_rh = 100 / (2**16 - 1)  # applies to all datasets\n",
    "\n",
    "# Define your open_mfdataset parameters\n",
    "chunks = {\"longitude\": \"auto\", \"latitude\": \"auto\", \"time\": \"auto\"}"
   ]
  },
  {
   "cell_type": "code",
   "execution_count": null,
   "id": "f5f16bc4-043d-4d1e-84e7-abb0c6a45d25",
   "metadata": {
    "tags": []
   },
   "outputs": [],
   "source": [
    "z = rh(22, 20)\n",
    "z"
   ]
  },
  {
   "cell_type": "code",
   "execution_count": null,
   "id": "69eb2376-6f8a-488e-b1fe-b66a49e7c998",
   "metadata": {
    "tags": []
   },
   "outputs": [],
   "source": [
    "client = Client()\n",
    "print(client)"
   ]
  },
  {
   "cell_type": "code",
   "execution_count": null,
   "id": "6c7da26a-aaf7-4235-8c06-b63b7321f10d",
   "metadata": {
    "tags": []
   },
   "outputs": [],
   "source": [
    "y = 2022\n",
    "# Open the datasets using xarray.open_mfdataset() and Dask\n",
    "d = xr.open_mfdataset(\n",
    "    [\n",
    "        f\"supplementary/era5/ERA5_2_metre_temperature_{y}.nc\",\n",
    "        f\"supplementary/era5/ERA5_2_metre_dewpoint_temperature_{y}.nc\",\n",
    "    ],\n",
    "    chunks=chunks,\n",
    "    combine=\"by_coords\",\n",
    "    parallel=True,\n",
    ")  # .isel(time=range(0,64))\n",
    "\n",
    "d"
   ]
  },
  {
   "cell_type": "code",
   "execution_count": null,
   "id": "6c59ec11-7465-4d03-a9cc-8b3d332add0f",
   "metadata": {
    "tags": []
   },
   "outputs": [],
   "source": [
    "%%time\n",
    "\n",
    "d[\"rh\"] = rh(d.t2m, d.d2m)"
   ]
  },
  {
   "cell_type": "code",
   "execution_count": null,
   "id": "4cbe7d31-d8dd-48f6-bd34-f47e0ff9f02c",
   "metadata": {
    "tags": []
   },
   "outputs": [],
   "source": [
    "out_rh = f\"supplementary/rel_hum/ERA5_2_metre_Rel_Humidity_{y}.nc\"\n",
    "rh = (\n",
    "    d[\"rh\"]\n",
    "    .to_dataset()\n",
    "    .to_netcdf(\n",
    "        out_rh,\n",
    "        compute=False,\n",
    "        encoding={\n",
    "            \"rh\": {\n",
    "                \"dtype\": \"int16\",\n",
    "                \"scale_factor\": scale_factor_rh,\n",
    "                \"_FillValue\": -9999,\n",
    "            }\n",
    "        },\n",
    "    )\n",
    ")"
   ]
  },
  {
   "cell_type": "code",
   "execution_count": null,
   "id": "6f316463-7b90-457f-8d2d-4a171eeb99df",
   "metadata": {
    "tags": []
   },
   "outputs": [],
   "source": [
    "# ws_res = client.gather(client.persist(ws))\n",
    "rh_res = rh.persist()\n",
    "progress(rh_res)"
   ]
  },
  {
   "cell_type": "code",
   "execution_count": null,
   "id": "951eb3c4-5764-4df7-9f6e-5e8874ce719e",
   "metadata": {
    "tags": []
   },
   "outputs": [],
   "source": [
    "d.close()"
   ]
  },
  {
   "cell_type": "code",
   "execution_count": null,
   "id": "3fdcd609-02e1-49bb-9344-cee56427e961",
   "metadata": {
    "tags": []
   },
   "outputs": [],
   "source": [
    "r = xr.open_dataset(out_rh)\n",
    "r"
   ]
  },
  {
   "cell_type": "code",
   "execution_count": null,
   "id": "929c5b70-9b04-47ed-b68d-6807dada2b1d",
   "metadata": {
    "tags": []
   },
   "outputs": [],
   "source": [
    "# client.close()"
   ]
  }
 ],
 "metadata": {
  "kernelspec": {
   "display_name": "Python 3 (ipykernel)",
   "language": "python",
   "name": "python3"
  },
  "language_info": {
   "codemirror_mode": {
    "name": "ipython",
    "version": 3
   },
   "file_extension": ".py",
   "mimetype": "text/x-python",
   "name": "python",
   "nbconvert_exporter": "python",
   "pygments_lexer": "ipython3",
   "version": "3.10.12"
  }
 },
 "nbformat": 4,
 "nbformat_minor": 5
}
